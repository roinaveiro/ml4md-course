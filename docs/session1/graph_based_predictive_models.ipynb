{
  "cells": [
    {
      "cell_type": "markdown",
      "id": "87b35a0c",
      "metadata": {
        "id": "87b35a0c"
      },
      "source": [
        "# **Install dependencies**"
      ]
    },
    {
      "cell_type": "code",
      "source": [
        "import os, sys\n",
        "from google.colab import drive\n",
        "drive.mount('/content/drive')\n",
        "repsol_path = '/content/repsol-ml4md'\n",
        "repsol_utils_path = '/content/repsol-ml4md/utils'\n",
        "repsol_data_path = '/content/repsol-ml4md/data'\n",
        "\n",
        "# Make sure to adapt the following line\n",
        "your_workshop_path = '/content/drive/My Drive/Colab Notebooks/repsol-ml4md/'\n",
        "os.symlink(f'{your_workshop_path}predictive_models', repsol_path)\n",
        "sys.path.insert(0, repsol_utils_path)\n",
        "sys.path.insert(0, repsol_data_path)"
      ],
      "metadata": {
        "id": "qt9WpE7XsWUZ",
        "colab": {
          "base_uri": "https://localhost:8080/"
        },
        "outputId": "427c398a-0065-4fef-837e-f2bd6e05ebf4"
      },
      "id": "qt9WpE7XsWUZ",
      "execution_count": 1,
      "outputs": [
        {
          "output_type": "stream",
          "name": "stdout",
          "text": [
            "Mounted at /content/drive\n"
          ]
        }
      ]
    },
    {
      "cell_type": "code",
      "source": [
        "%pip install rdkit-pypi\n",
        "%pip install mordred\n",
        "%pip install graph_nets \"tensorflow>=2.1.0-rc1\" \"dm-sonnet>=2.0.0b0\" tensorflow_probability\n",
        "%pip install --upgrade git+https://github.com/stanfordmlgroup/ngboost.git\n",
        "%pip install ml-collections"
      ],
      "metadata": {
        "id": "JAeGV2aPfZ79"
      },
      "id": "JAeGV2aPfZ79",
      "execution_count": null,
      "outputs": []
    },
    {
      "cell_type": "markdown",
      "source": [
        "# **Graph-Based activity-structure relationship models**"
      ],
      "metadata": {
        "id": "oBnf5ns1UKdO"
      },
      "id": "oBnf5ns1UKdO"
    },
    {
      "cell_type": "markdown",
      "source": [
        "For this part of the course, we will continue working with the Delaney dataset, which is included in MoleculeNet. Recall that it provides information about water solubility (log solubility in mols per litre) of common organic small molecules.\n",
        "\n",
        "During this lab, we will introduce graph-based structure-activity relationship models. These models represent molecules as graphs, which means they take into account the connectivity information between atoms in the molecule explicitly. \n",
        "\n",
        "To begin, we will load the libraries that we need to complete this lab."
      ],
      "metadata": {
        "id": "XN_1MR4PumtA"
      },
      "id": "XN_1MR4PumtA"
    },
    {
      "cell_type": "code",
      "execution_count": 3,
      "id": "54758e7d",
      "metadata": {
        "id": "54758e7d"
      },
      "outputs": [],
      "source": [
        "import json\n",
        "import itertools\n",
        "\n",
        "import numpy as np\n",
        "import pandas as pd\n",
        "\n",
        "import rdkit\n",
        "import rdkit.Chem.AllChem as Chem\n",
        "from rdkit.Chem import AllChem\n",
        "\n",
        "import ml_collections\n",
        "\n",
        "from sklearn.model_selection import train_test_split\n",
        "from sklearn.metrics import r2_score\n",
        "\n",
        "import graph_nets\n",
        "import sonnet as snt\n",
        "import tensorflow as tf\n",
        "\n",
        "import seaborn as sns\n",
        "import matplotlib.pyplot as plt\n",
        "sns.set(rc={'figure.figsize':(8.7,5.27)})\n",
        "sns.set(style=\"whitegrid\", font_scale=1.5)\n",
        "plt.rcParams['lines.markersize'] = 7\n",
        "\n",
        "from utils import *\n",
        "from graphs import *\n",
        "import modules \n",
        "import training\n",
        "\n",
        "import networkx as nx\n",
        "\n",
        "from tqdm import tqdm\n"
      ]
    },
    {
      "cell_type": "markdown",
      "source": [
        "In the upcoming lines of code, we will specify the data directory and load the preprocessed Delaney dataset, along with its configuration file."
      ],
      "metadata": {
        "id": "8DeXXj6iQ_Ix"
      },
      "id": "8DeXXj6iQ_Ix"
    },
    {
      "cell_type": "code",
      "source": [
        "main_dir = './repsol-ml4md/'\n",
        "data_dir = f'{main_dir}data/delaney/'\n",
        "data_path = f'{data_dir}delaney.csv'\n",
        "name = 'delaney'\n",
        "\n",
        "# Load config file\n",
        "fname = os.path.join(data_dir, f'{name}.json')\n",
        "with open(fname, 'r') as afile:\n",
        "    config = ml_collections.ConfigDict(json.load(afile))\n",
        "\n",
        "# Read preprocessed dataset\n",
        "fname = os.path.join(data_dir, f'{name}_preprocessed.csv')\n",
        "df = pd.read_csv(fname)\n",
        "\n",
        "# Convert SMILES to Mol objects\n",
        "df[\"mol\"] = df[config.smiles_column].apply(Chem.MolFromSmiles)\n",
        "\n",
        "# Get SMILES list\n",
        "smiles = np.array(df[config.smiles_column].tolist())"
      ],
      "metadata": {
        "id": "bfMtdUhWQ8bT"
      },
      "id": "bfMtdUhWQ8bT",
      "execution_count": 4,
      "outputs": []
    },
    {
      "cell_type": "markdown",
      "id": "08690ef1",
      "metadata": {
        "id": "08690ef1"
      },
      "source": [
        "## **Representing molecules as graphs**\n",
        "\n",
        "To represent molecules as graphs, we assign each atom in the molecule to a node, and each bond between atoms to an edge connecting those nodes. Additionally, each node is associated with a feature vector of arbitrary dimension that contains information about the corresponding atom, such as its atomic number. Likewise, each edge is associated with a feature vector of arbitrary dimension that contains information about the corresponding bond, such as its bond type.\n",
        "\n",
        "This graph-based representation allows us to capture the structural information and connectivity of the atoms within the molecule.\n",
        "\n",
        "We will begin by discussing how to represent a simple graph using an object of the GraphsTuple class in the `graph_nets` library. An excellent tutorial to get started is available at [`Graphs Tuple Tutorial`](https://colab.research.google.com/github/deepmind/graph_nets/blob/master/graph_nets/demos/graph_nets_basics.ipynb)\n"
      ]
    },
    {
      "cell_type": "markdown",
      "source": [
        "### **The [`GraphsTuple`](https://github.com/deepmind/graph_nets/blob/master/docs/graph_nets.md#class-graphsgraphstuple) class**\n",
        "\n",
        "\n",
        "An object of the GraphsTuple class represents a batch of one or more graphs. All graph network modules take instances of GraphsTuple as input and output.\n",
        "\n",
        "The graphs in a GraphsTuple object are directed and attributed, which means that node-level, edge-level, and graph-level features are allowed.\n",
        "\n",
        "A `GraphsTuple` has attributes:\n",
        "- `n_node` (shape=[num_graphs]): Number of nodes in each graph in the batch.\n",
        "- `n_edge` (shape=[num_graphs]): Number of edges in each graph in the batch.\n",
        "- `globals` (shape=[num_graphs, global_feature_dimensions]): Global features for each graph in the batch.\n",
        "- `nodes` (shape=[total_num_nodes, node_feature_dimensions]): Node features for each node in the batch of graphs.\n",
        "- `edges` (shape=[total_num_edges, edge_feature_dimensions]): Edge features for each edge in the batch of graphs.\n",
        "- `senders`(shape=[total_num_edges]): Indices of the nodes in `nodes`, which indicate the source node of each directed edge in `edges`.\n",
        "- `receivers` (shape=[total_num_edges]): Indices of the nodes in `nodes`, which indicate the destination node of each directed edge in `edges`.\n",
        "\n",
        "The attributes of a `GraphsTuple` instance are typically either Numpy arrays or TensorFlow tensors. We will work with TensorFlow tensors.\n"
      ],
      "metadata": {
        "id": "hx8T1rHHqynu"
      },
      "id": "hx8T1rHHqynu"
    },
    {
      "cell_type": "markdown",
      "source": [
        "### **Defining simple graphs**\n",
        "\n",
        "To create a `graphs.GraphsTuple` instance, we can define a `list` containing dictionaries, where each `dict` represents a graph in the batch. Each graph in the batch will have a global feature, multiple nodes, and multiple edges. While the graphs can have varying numbers of nodes and edges, the lengths of the global, node, and edge attribute vectors must be the same across all graphs in the batch.\n",
        "\n",
        "The `dict` for each graph in the batch must include the following keys and their corresponding values:\n",
        "\n",
        "- \"globals\": a single `float`-valued feature vector for the graph.\n",
        "- \"nodes\": a set of nodes, where each node has a `float`-valued feature vector.\n",
        "- \"edges\": a set of edges, where each edge has a `float`-valued feature vector.\n",
        "- \"senders\": an `int`-valued node index representing the sender node for each edge.\n",
        "- \"receivers\": an `int`-valued node index representing the receiver node for each edge.\n",
        "\n",
        "Using this structure, we can easily create graph data for a batch of graphs. Let's see an example"
      ],
      "metadata": {
        "id": "mOP9UOHZrKM6"
      },
      "id": "mOP9UOHZrKM6"
    },
    {
      "cell_type": "code",
      "source": [
        "# Global features for graph 0.\n",
        "globals_0 = [1., 2., 3.]\n",
        "\n",
        "# Node features for graph 0.\n",
        "nodes_0 = [[3., 1., 4.],  # Node 0\n",
        "           [1., 5., 3.],  # Node 1\n",
        "           [1., 4., 1.],  # Node 2\n",
        "           [5., 3., 1.],  # Node 3\n",
        "           [4., 1., 5.]]  # Node 4\n",
        "\n",
        "# Edge features for graph 0.\n",
        "edges_0 = [[1., 2.],  # Edge 0\n",
        "           [1.1, 2.1],  # Edge 1\n",
        "           [342., 12.],  # Edge 2\n",
        "           [1., 513.],  # Edge 3\n",
        "           [3., 5.],  # Edge 4\n",
        "           [6., 2.]]  # Edge 5\n",
        "\n",
        "# The sender and receiver nodes associated with each edge for graph 0.\n",
        "senders_0 = [0,  # Index of the sender node for edge 0\n",
        "             0,  # Index of the sender node for edge 1\n",
        "             0,  # Index of the sender node for edge 2\n",
        "             0]  # Index of the sender node for edge 3\n",
        "receivers_0 = [1,  # Index of the receiver node for edge 0\n",
        "               2,  # Index of the receiver node for edge 1\n",
        "               3,  # Index of the receiver node for edge 2\n",
        "               4]  # Index of the receiver node for edge 3\n",
        "\n",
        "\n",
        "data_dict_0 = {\n",
        "    \"globals\": globals_0,\n",
        "    \"nodes\": nodes_0,\n",
        "    \"edges\": edges_0,\n",
        "    \"senders\": senders_0,\n",
        "    \"receivers\": receivers_0\n",
        "}\n",
        "\n",
        "# Global features for graph 1.\n",
        "globals_1 = [1., 2., 3.]\n",
        "\n",
        "# Node features for graph 0.\n",
        "nodes_1 = [[3., 1., 4.],  # Node 0\n",
        "           [1., 5., 3.],  # Node 1\n",
        "           [1., 4., 1.],  # Node 2\n",
        "           [5., 3., 1.],  # Node 3\n",
        "           [4., 1., 5.]]  # Node 4\n",
        "\n",
        "# Edge features for graph 1.\n",
        "edges_1 = [[1., 2.],  # Edge 0\n",
        "           [1.1, 2.1],  # Edge 1\n",
        "           [342., 12.],  # Edge 2\n",
        "           [1., 513.],  # Edge 3\n",
        "           [3., 5.],  # Edge 4\n",
        "           [6., 2.]]  # Edge 5\n",
        "\n",
        "# The sender and receiver nodes associated with each edge for graph 1.\n",
        "senders_1 = [0,  # Index of the sender node for edge 0\n",
        "             1,  # Index of the sender node for edge 1\n",
        "             2,  # Index of the sender node for edge 2\n",
        "             3,  # Index of the sender node for edge 3\n",
        "             4]  # Index of the sender node for edge 4\n",
        "receivers_1 = [1,  # Index of the receiver node for edge 0\n",
        "               2,  # Index of the receiver node for edge 1\n",
        "               3,  # Index of the receiver node for edge 2\n",
        "               4,  # Index of the receiver node for edge 3\n",
        "               0]  # Index of the receiver node for edge 4\n",
        "\n",
        "\n",
        "data_dict_1 = {\n",
        "    \"globals\": globals_1,\n",
        "    \"nodes\": nodes_1,\n",
        "    \"edges\": edges_1,\n",
        "    \"senders\": senders_1,\n",
        "    \"receivers\": receivers_1\n",
        "}\n",
        "\n",
        "x = graph_nets.utils_tf.data_dicts_to_graphs_tuple([data_dict_0, data_dict_1])\n"
      ],
      "metadata": {
        "id": "UjP7oKPmx08G"
      },
      "id": "UjP7oKPmx08G",
      "execution_count": 5,
      "outputs": []
    },
    {
      "cell_type": "markdown",
      "source": [
        "We can visualize these graphs using the following lines"
      ],
      "metadata": {
        "id": "iLP7TpNbh_F-"
      },
      "id": "iLP7TpNbh_F-"
    },
    {
      "cell_type": "code",
      "source": [
        "graph_nx = graph_nets.utils_np.graphs_tuple_to_networkxs(x)\n",
        "nx.draw(graph_nx[0])"
      ],
      "metadata": {
        "colab": {
          "base_uri": "https://localhost:8080/",
          "height": 564
        },
        "id": "1cYRfKksy6hr",
        "outputId": "4981df37-c060-4dba-99d4-bc7c637ad42d"
      },
      "id": "1cYRfKksy6hr",
      "execution_count": 6,
      "outputs": [
        {
          "output_type": "display_data",
          "data": {
            "text/plain": [
              "<Figure size 870x527 with 1 Axes>"
            ],
            "image/png": "[encoded data removed]"
          },
          "metadata": {}
        }
      ]
    },
    {
      "cell_type": "code",
      "source": [
        "nx.draw(graph_nx[1])"
      ],
      "metadata": {
        "colab": {
          "base_uri": "https://localhost:8080/",
          "height": 564
        },
        "id": "qjSvK_Cgi6bR",
        "outputId": "fc98b5b6-8364-4434-b0d1-257ed5c18f2c"
      },
      "id": "qjSvK_Cgi6bR",
      "execution_count": 7,
      "outputs": [
        {
          "output_type": "display_data",
          "data": {
            "text/plain": [
              "<Figure size 870x527 with 1 Axes>"
            ],
            "image/png": "[encoded data removed]"
          },
          "metadata": {}
        }
      ]
    },
    {
      "cell_type": "markdown",
      "source": [
        "### **How to do this with a molecule?**\n",
        "\n",
        "Let's now attempt to represent the first molecule in our dataset as a graph."
      ],
      "metadata": {
        "id": "GHZ-4jSh0Qle"
      },
      "id": "GHZ-4jSh0Qle"
    },
    {
      "cell_type": "code",
      "source": [
        "mol = df.mol.iloc[0]\n",
        "mol"
      ],
      "metadata": {
        "colab": {
          "base_uri": "https://localhost:8080/",
          "height": 167
        },
        "id": "p2BkSL5mv5oC",
        "outputId": "ca0e58cf-6373-40da-b075-b4414502ea9d"
      },
      "id": "p2BkSL5mv5oC",
      "execution_count": 8,
      "outputs": [
        {
          "output_type": "execute_result",
          "data": {
            "text/plain": [
              "<rdkit.Chem.rdchem.Mol at 0x7f9c77a7eb90>"
            ],
            "image/png": "[encoded data removed]"
          },
          "metadata": {},
          "execution_count": 8
        }
      ]
    },
    {
      "cell_type": "markdown",
      "source": [
        "We first need to define two functions\n",
        "\n",
        "* `get_node_features`: This function takes an `Atom` object as input and returns the atom features. In this case, we will consider a single feature (atom type) and return the one-hot encoding of the atom type.\n",
        "\n",
        "* `get_edge_features`: This function takes a `Bond` object as input and returns the bond features. Again, we will consider a single feature (bond type) and return the one-hot encoding of the bond type.\n",
        "\n",
        "Note: the `encode_onehot`is defined as follows\n",
        "```\n",
        "def encode_onehot(x, allowable_set):\n",
        "    \"\"\"Maps inputs not in the allowable set to the last element.\"\"\"\n",
        "    if x not in allowable_set:\n",
        "        x = allowable_set[-1]\n",
        "    return [x == item for item in allowable_set]\n",
        "```\n"
      ],
      "metadata": {
        "id": "zvk_K1vdsZUq"
      },
      "id": "zvk_K1vdsZUq"
    },
    {
      "cell_type": "code",
      "source": [
        "from graphs import encode_onehot\n",
        "\n",
        "atom_set = ['C', 'N', 'O', 'Cl', 'other']\n",
        "def get_node_features(atom):\n",
        "    values = [encode_onehot(atom.GetSymbol(), atom_set)]\n",
        "    return np.hstack(values)\n",
        "\n",
        "def get_edge_features(bond):\n",
        "    values = [encode_onehot(str(bond.GetBondType()), ['SINGLE', 'DOUBLE', 'TRIPLE', 'AROMATIC', 'other'])]\n",
        "    return np.hstack(values)\n"
      ],
      "metadata": {
        "id": "rj03xin2t8Pm"
      },
      "id": "rj03xin2t8Pm",
      "execution_count": 9,
      "outputs": []
    },
    {
      "cell_type": "markdown",
      "source": [
        "In addition, we need to define two lists: one containing the indices of the sender atoms and another containing the indices of the receiver atoms. Since there is no particular directionality in the interactions between atoms within a molecule, for each pair of atoms A and B, we specify two edges with the same features - one edge pointing from A to B and the other pointing from B to A.\n",
        "\n",
        "We can now compute all the elements required to define the `GraphTuple` of the first molecule in the dataset."
      ],
      "metadata": {
        "id": "GUon40W5lnLZ"
      },
      "id": "GUon40W5lnLZ"
    },
    {
      "cell_type": "code",
      "source": [
        "nodes = np.array([get_node_features(atom) for atom in mol.GetAtoms()])\n",
        "edges = np.zeros((mol.GetNumBonds() * 2, 5))\n",
        "senders = []\n",
        "receivers = []\n",
        "for index, bond in enumerate(mol.GetBonds()):\n",
        "    id1 = bond.GetBeginAtom().GetIdx()\n",
        "    id2 = bond.GetEndAtom().GetIdx()\n",
        "    bond_arr = get_edge_features(bond)\n",
        "    edges[index * 2, :] = bond_arr\n",
        "    edges[index * 2 + 1, :] = bond_arr\n",
        "    senders.extend([id1, id2])\n",
        "    receivers.extend([id2, id1])"
      ],
      "metadata": {
        "id": "M3j6VsnMxRey"
      },
      "id": "M3j6VsnMxRey",
      "execution_count": 10,
      "outputs": []
    },
    {
      "cell_type": "markdown",
      "source": [
        "We store all this elements in a dictionary that can be converted into a `GraphTuple` object"
      ],
      "metadata": {
        "id": "8N4Y3y9ynmlw"
      },
      "id": "8N4Y3y9ynmlw"
    },
    {
      "cell_type": "code",
      "source": [
        "data_dict = {\n",
        "        'nodes': nodes.astype(np.float32),\n",
        "        'edges': edges.astype(np.float32),\n",
        "        'globals': np.array([0.], dtype=np.float32),\n",
        "        'senders': np.array(senders, np.int32),\n",
        "        'receivers': np.array(receivers, np.int32)\n",
        "    }\n",
        "\n",
        "x = graph_nets.utils_tf.data_dicts_to_graphs_tuple([data_dict])"
      ],
      "metadata": {
        "id": "suVVNoms0tXj"
      },
      "id": "suVVNoms0tXj",
      "execution_count": 11,
      "outputs": []
    },
    {
      "cell_type": "markdown",
      "source": [
        "### **Compute graph features for the molecules in the Delaney dataset**\n",
        "\n",
        "In the `graph.py` file, we have implemented a more advanced function that allows for the conversion of a list of SMILES into a `GraphTuple` object. This function iterates over all molecules, computes the node and edge features, and fills in the GraphTuple attributes. \n",
        "\n",
        "**It's worth noting that this function computes additional features beyond those considered in the previous example. To learn more about the features that are computed, please refer to the code.**\n",
        "\n"
      ],
      "metadata": {
        "id": "gbFXBHVQ00LE"
      },
      "id": "gbFXBHVQ00LE"
    },
    {
      "cell_type": "code",
      "source": [
        "# get graph tuples\n",
        "from graphs import MolTensorizer, save_graphstuple\n",
        "\n",
        "smi_to_graph = MolTensorizer(config.atom_set)\n",
        "x = smi_to_graph(smiles)\n",
        "save_graphstuple(data_dir + \"features_graph.npz\", x, smiles)"
      ],
      "metadata": {
        "id": "QCMQLnAylkB7"
      },
      "id": "QCMQLnAylkB7",
      "execution_count": null,
      "outputs": []
    },
    {
      "cell_type": "markdown",
      "id": "707656bc",
      "metadata": {
        "id": "707656bc"
      },
      "source": [
        "### **Splitting molecules**\n",
        "\n",
        "In order to properly evaluate predictive models, we splite molecules in train, test and validations sets."
      ]
    },
    {
      "cell_type": "code",
      "execution_count": null,
      "id": "de17ff5a",
      "metadata": {
        "id": "de17ff5a"
      },
      "outputs": [],
      "source": [
        "test_size  = 0.2\n",
        "val_size   = 0.1\n",
        "train_size = 0.7\n",
        "##\n",
        "seed = 83\n",
        "smi_train, smi_test = train_test_split(smiles, random_state=seed, test_size=test_size)\n",
        "smi_train, smi_val = train_test_split(smi_train, random_state=seed,\n",
        "                                      test_size=val_size / (train_size + val_size))\n",
        "\n",
        "\n",
        "# check split train and validation\n",
        "for a, b in itertools.combinations([smi_train, smi_val, smi_test], 2):\n",
        "    assert np.intersect1d(a, b).size == 0, 'Found bad split!'  # ensure no intersection between splits\n",
        "\n",
        "np.savez_compressed(data_dir + \"smi_split.npz\", train=smi_train, val=smi_val, test=smi_test)"
      ]
    },
    {
      "cell_type": "markdown",
      "id": "f8267ac3",
      "metadata": {
        "id": "f8267ac3"
      },
      "source": [
        "## **Training a Graph Neural Network**\n",
        "\n",
        "Before we can proceed with fitting models, we need to set up the stage. We have developed a function for that. "
      ]
    },
    {
      "cell_type": "code",
      "execution_count": null,
      "id": "50d7cda0",
      "metadata": {
        "id": "50d7cda0"
      },
      "outputs": [],
      "source": [
        "from utils import IndexSplit, ArraySplit, ScaledArraySplit\n",
        "from graphs import get_graphs, load_graphstuple, GraphSplit\n",
        "\n",
        "def load_task(y_scaler):\n",
        "    smi_split = np.load(f'{data_dir}smi_split.npz')\n",
        "    smi_dict  = {key: smi_split[key] for key in smi_split.keys()}\n",
        "    ##\n",
        "    y = df[config.target_column].values.reshape(-1, 1)\n",
        "    ##\n",
        "    indices = {}\n",
        "    for key, smi in smi_dict.items():\n",
        "        indices[key] = np.array(df[np.isin(smiles, smi)].index.tolist())\n",
        "\n",
        "    split = IndexSplit(**indices)\n",
        "\n",
        "\n",
        "    loaded_smi, g = load_graphstuple(data_dir + \"features_graph.npz\")\n",
        "    smi_to_index = {s: index for index, s in enumerate(loaded_smi)}\n",
        "    new_indices = np.array([smi_to_index[s] for s in smiles])\n",
        "    g = get_graphs(g, new_indices)\n",
        "    x = GraphSplit(g, split)\n",
        "    y = ScaledArraySplit(y, split, y_scaler)\n",
        "    \n",
        "    return smi_dict, x, y"
      ]
    },
    {
      "cell_type": "markdown",
      "source": [
        "This function returns three objects:\n",
        "\n",
        "* `smi_dict`: a dictionary containing SMILES for molecules separated into training, validation, and test sets.\n",
        "\n",
        "* `x`: an object that enables us to retrieve the molecular graphs in the training, validation, and test sets.\n",
        "\n",
        "* `y`: an object that enables us to retrieve the log-solubility values of the molecules in the training, validation, and test sets.\n",
        "\n",
        "Notice that in this case we just need to specify the outcome scaler."
      ],
      "metadata": {
        "id": "7FC9iTZr5Vd1"
      },
      "id": "7FC9iTZr5Vd1"
    },
    {
      "cell_type": "code",
      "execution_count": null,
      "id": "04ec79d0",
      "metadata": {
        "id": "04ec79d0"
      },
      "outputs": [],
      "source": [
        "smi_split, x, y = load_task('standard')"
      ]
    },
    {
      "cell_type": "markdown",
      "source": [
        "\n",
        "\n",
        "We propose to utilize a Graph Network (GN) model to predict the log-solubility of a given molecule, as described in the reference. GNs are a type of functions that operate on graph-structured data. The GN block is the primary computational unit in a Graph Network, and it maps one graph to another. A graph with $N_v$ nodes and $N_e$ edges can be represented as a tuple $G = (\\textbf{u}, V, E)$, where $\\textbf{u}$ represents the global attribute, $V = \\lbrace v_i \\rbrace_{i=1:N^v}$ is the set of node attribute vectors, and $E = \\lbrace (\\textbf{e}_k, r_k, s_k)\\rbrace_{k=1:N^e}$ is the set of edges. Here, $\\textbf{e}_k$ denotes the edge attribute, $r_k$ is the index of the receiving node, and $s_k$ is the index of the sending node.\n",
        "\n",
        "The GN block comprises an edge update function $\\phi^e$, a node update function $\\phi^v$, and a global update function $\\phi^u$. It also includes three aggregate functions: $\\rho^{e\\rightarrow v}$, which aggregates edge attributes per node, $\\rho^{e\\rightarrow u}$, which aggregates edge attributes globally, and $\\rho^{v\\rightarrow u}$, which aggregates node attributes globally.\n",
        "\n",
        "Let's now delve into the GN workflow\n",
        "\n"
      ],
      "metadata": {
        "id": "ChP5pnyRc0En"
      },
      "id": "ChP5pnyRc0En"
    },
    {
      "cell_type": "markdown",
      "source": [
        "\n",
        "\n",
        "\n",
        "### GN block \n",
        "\n",
        "When a graph is fed to a GN block, the computations proceed from the edge level to the node level and then to the global level. The following steps are involved:\n",
        "\n",
        "1. The function $\\phi^{e}$ is applied to **all the edges**. This function, when applied to edge $k$ takes as arguments  $(\\textbf{e}_k, \\textbf{v}_{r_k}, \\textbf{v}_{s_k}, \\textbf{u})$ and returns the updated edge features $\\textbf{e'}_k$. The set of resulting per-edge outputs for node $i$ is denoted as $E'_i = \\lbrace (\\textbf{e'}_k, r_k, s_k) \\rbrace_{r_k = i}$. The set of all per-edge outputs is $E' = \\cup_i E'_i$.\n",
        "\n",
        "2. **For every node** $\\rho^{e\\rightarrow v}$ is applied to $E'_i$ to aggregate the edge updates for edges that project to vertex $i$. This produces updated and aggregated edge information for node $i$, denoted as $\\bf{\\overline{e}'_i}$\n",
        "\n",
        "3. The function $\\phi^{v}$ is applied to **all the nodes**. This function, when applied to node $i$ takes as arguments  $(\\bf{\\overline{e}'_i}, \\textbf{v}_{i}, \\textbf{u})$ and returns the updated node features $\\textbf{v'}_i$. The set of all per-node outputs is denoted as $V' = \\lbrace \\textbf{v'}_i \\rbrace_{i=1:N^v}$\n",
        "\n",
        "4. The function $\\rho^{e\\rightarrow u}$ is applied to $E'$ and aggregates all edge updates into $\\bf{\\overline{e}'}$\n",
        "\n",
        "5. The function $\\rho^{v\\rightarrow u}$ is applied to $V'$ and aggregates all node updates into $\\bf{\\overline{v}'}$\n",
        "\n",
        "6. The function $\\phi^u$ is used. This function takes as arguments  $(\\bf{\\overline{e}'}, \\bf{\\overline{v}'}, \\bf{u})$ and returns the updated global features $\\textbf{u}$.\n",
        "\n",
        "\n",
        "Each of the functions described can have various parametric forms, but a common choice is to use multilayer perceptrons for the update functions and sums for the aggregate functions.\n",
        "\n",
        "It's worth noting that GN blocks can be concatenated to allow for more distant neighbors to affect the update of a given node. In a single GN block, only first neighbors are used to update a node. However, when two GN blocks are concatenated, second neighbors can affect the update, and so on.\n",
        "\n",
        "The output of a Graph Network will depend on the task at hand. In our case, to obtain a property prediction, the output layer takes the updated global features as input an returns an scalar.\n",
        "\n",
        "The entire architecture can be summarized as follows:\n",
        "\n",
        "1. Encode the input graph using independent node and edge update functions to match the internal node and edge feature sizes.\n",
        "\n",
        "2. Apply multiple GN blocks to the embedded graph.\n",
        "\n",
        "3. Use an output layer to map the updated global features to a property prediction.\n",
        "\n",
        "Once the architecture is defined, the parameters can be optimized using standard optimizers and loss functions.\n"
      ],
      "metadata": {
        "id": "hBX_6LHdqiJb"
      },
      "id": "hBX_6LHdqiJb"
    },
    {
      "cell_type": "markdown",
      "source": [
        "With the following lines of code, we define a GNN with 3 GN blocks."
      ],
      "metadata": {
        "id": "i9F4gmnDgNQD"
      },
      "id": "i9F4gmnDgNQD"
    },
    {
      "cell_type": "code",
      "source": [
        "def get_graph_block(node_size: int,\n",
        "                    edge_size: int, global_size: int, \n",
        "                    index: int):\n",
        "    \"\"\"Gets a GNN block based on enum and sizes.\"\"\"\n",
        "    name = f'graph_net_{index + 1}'\n",
        "    use_globals = index != 0\n",
        "    return graph_nets.modules.GraphNetwork(\n",
        "        node_model_fn=modules.get_mlp_fn([node_size] * 2),\n",
        "        edge_model_fn=modules.get_mlp_fn([edge_size] * 2),\n",
        "        global_model_fn=modules.get_mlp_fn([global_size] * 2),\n",
        "        edge_block_opt={'use_globals': use_globals},\n",
        "        node_block_opt={'use_globals': use_globals},\n",
        "        global_block_opt={'use_globals': use_globals},\n",
        "        name=name)\n",
        "    \n",
        "class GNN(snt.Module):\n",
        "    \"\"\"A general graph neural network for graph property prediction.\"\"\"\n",
        "\n",
        "    def __init__(self,\n",
        "                 node_size,\n",
        "                 edge_size,\n",
        "                 global_size,\n",
        "                 n_layers = 3):\n",
        "        super(GNN, self).__init__()\n",
        "\n",
        "        # Graph encoding step, basic linear mapping.\n",
        "        self.encode = graph_nets.modules.GraphIndependent(\n",
        "            node_model_fn=lambda: snt.Linear(node_size),\n",
        "            edge_model_fn=lambda: snt.Linear(edge_size))\n",
        "        # GN blocks.\n",
        "        gnn_layers = [\n",
        "            get_graph_block(\n",
        "                node_size,\n",
        "                edge_size,\n",
        "                global_size,\n",
        "                index)\n",
        "            for index in range(0, n_layers)\n",
        "        ]\n",
        "        self.gnn = snt.Sequential(gnn_layers)\n",
        "        self.pred_layer = modules.get_pred_layer(1, 'identity')\n",
        "\n",
        "    def embed(self, x):\n",
        "        return self.gnn(self.encode(x)).globals\n",
        "\n",
        "    def __call__(self, x):\n",
        "        return self.pred_layer(self.embed(x))\n",
        "\n",
        "    def train(self, x, y, lr=1e-3, patience=20, epochs=2000,\n",
        "              batch_size = 256, verbose=True):\n",
        "\n",
        "        optimizer = tf.keras.optimizers.Adam(lr)\n",
        "        # optimizer = tf.keras.optimizers.experimental.SGD(learning_rate=0.1, jit_compile=False)\n",
        "        loss_fn = tf.keras.losses.MeanSquaredError()\n",
        "        main_metric, metric_fn = ('R^2', r2_score)\n",
        "\n",
        "        y_train, y_val, y_test = y.scaled_train, y.scaled_val, y.scaled_test\n",
        "\n",
        "        # train the model\n",
        "        early_stop = training.EarlyStopping(self, patience=patience)\n",
        "        stop_metric = f'val_{main_metric}'\n",
        "        pbar = tqdm(range(epochs), disable=not verbose)\n",
        "        stats = []\n",
        "\n",
        "        for _ in pbar:\n",
        "            training.train_step(self, x.train, y_train, optimizer, loss_fn, \n",
        "                                batch_size)\n",
        "\n",
        "            result = {}\n",
        "            for inputs, target, prefix in [\n",
        "                (x.train, y_train, 'train'),\n",
        "                (x.val, y_val, 'val'),\n",
        "                (x.test, y_test, 'test')\n",
        "            ]:\n",
        "                output = self(inputs)\n",
        "                result[f'{prefix}_{main_metric}'] = metric_fn(target, output)\n",
        "                result[f'{prefix}_loss'] = loss_fn(target, output).numpy()\n",
        "            stats.append(result)\n",
        "            \n",
        "            pbar.set_postfix(stats[-1])\n",
        "            if early_stop.check_criteria(stats[-1][stop_metric]):\n",
        "                break\n",
        "\n",
        "        early_stop.restore_best()\n",
        "        best_step = early_stop.best_step\n",
        "        print(f'Early stopped at {best_step} with {stop_metric}={stats[best_step][stop_metric]:.3f}')\n",
        "\n",
        "    def predict(self, x,\n",
        "                return_embeddings = False):\n",
        "                \n",
        "        assert isinstance(x, GraphsTuple), 'GNN requires graph tuples input.'\n",
        "\n",
        "        # predict values and the standard deviation\n",
        "        y_pred = self.__call__(x)\n",
        "\n",
        "        y_pred = y_pred.numpy()\n",
        "  \n",
        "\n",
        "        if return_embeddings:\n",
        "            embeddings = self.embed(x).numpy()\n",
        "            return y_pred, embeddings\n",
        "\n",
        "        return y_pred\n"
      ],
      "metadata": {
        "id": "1d80p5kb8zOz"
      },
      "id": "1d80p5kb8zOz",
      "execution_count": null,
      "outputs": []
    },
    {
      "cell_type": "markdown",
      "source": [
        "We now train the model using the training set molecules."
      ],
      "metadata": {
        "id": "D9OiIO1rgU-Q"
      },
      "id": "D9OiIO1rgU-Q"
    },
    {
      "cell_type": "code",
      "source": [
        "model = GNN(node_size=50, edge_size=20, global_size=150, n_layers = 3)\n",
        "model.train(x, y)"
      ],
      "metadata": {
        "colab": {
          "base_uri": "https://localhost:8080/"
        },
        "id": "DQadYOGOIImg",
        "outputId": "5d7d0472-6a30-4d0e-8a7f-f03486be105b"
      },
      "id": "DQadYOGOIImg",
      "execution_count": null,
      "outputs": [
        {
          "output_type": "stream",
          "name": "stderr",
          "text": [
            "  7%|▋         | 133/2000 [05:14<1:13:40,  2.37s/it, train_R^2=0.952, train_loss=0.0477, val_R^2=0.895, val_loss=0.101, test_R^2=0.914, test_loss=0.0962]"
          ]
        },
        {
          "output_type": "stream",
          "name": "stdout",
          "text": [
            "Restoring checkpoint at step 113 with best value at 0.914\n",
            "Early stopped at 113 with val_R^2=0.914\n"
          ]
        },
        {
          "output_type": "stream",
          "name": "stderr",
          "text": [
            "\n"
          ]
        }
      ]
    },
    {
      "cell_type": "markdown",
      "source": [
        "We can make predictions on the test set molecules using:"
      ],
      "metadata": {
        "id": "IIO6wvdYaMTQ"
      },
      "id": "IIO6wvdYaMTQ"
    },
    {
      "cell_type": "code",
      "source": [
        "y_pred = model.predict(x.test)"
      ],
      "metadata": {
        "id": "qagJnzhHNWHq"
      },
      "id": "qagJnzhHNWHq",
      "execution_count": null,
      "outputs": []
    },
    {
      "cell_type": "markdown",
      "source": [
        "We save the results for later evaluation"
      ],
      "metadata": {
        "id": "c4VosNwbaOjk"
      },
      "id": "c4VosNwbaOjk"
    },
    {
      "cell_type": "code",
      "source": [
        "np.savez_compressed(f'{data_dir}predictions_GNN_features_graph.npz', y_pred=y_pred, y_true=y.scaled_test)"
      ],
      "metadata": {
        "id": "1P_Ky0NVOVtR"
      },
      "id": "1P_Ky0NVOVtR",
      "execution_count": null,
      "outputs": []
    },
    {
      "cell_type": "markdown",
      "id": "a891c2c8",
      "metadata": {
        "id": "a891c2c8"
      },
      "source": [
        "## **Evaluating the Graph Neural Network**\n",
        "\n",
        "The GNN model provides point forecast.\n",
        "For evaluating deterministic predictions, we can use the usual metrics. We use the R2 score"
      ]
    },
    {
      "cell_type": "code",
      "execution_count": null,
      "id": "b1d0ac78",
      "metadata": {
        "colab": {
          "base_uri": "https://localhost:8080/",
          "height": 514
        },
        "id": "b1d0ac78",
        "outputId": "13c2cc1b-5ae0-47c2-98b3-81cbe3bdd504"
      },
      "outputs": [
        {
          "output_type": "stream",
          "name": "stdout",
          "text": [
            "R2 score: 0.9246625947390259\n"
          ]
        },
        {
          "output_type": "execute_result",
          "data": {
            "text/plain": [
              "<Axes: >"
            ]
          },
          "metadata": {},
          "execution_count": 19
        },
        {
          "output_type": "display_data",
          "data": {
            "text/plain": [
              "<Figure size 870x527 with 1 Axes>"
            ],
            "image/png": "[encoded data removed]"
          },
          "metadata": {}
        }
      ],
      "source": [
        "preds = np.load(f'{data_dir}predictions_GNN_features_graph.npz')\n",
        "preds = {key: preds[key] for key in preds.keys()}\n",
        "\n",
        "print(\"R2 score:\", r2_score(preds[\"y_true\"].squeeze(), preds[\"y_pred\"].squeeze()))\n",
        "sns.scatterplot(x = preds[\"y_true\"].squeeze(), y = preds[\"y_pred\"].squeeze())"
      ]
    },
    {
      "cell_type": "markdown",
      "source": [
        "# **Your turn**\n",
        "\n",
        "With the knowledge we have acquired, you can integrate Graph Neural Networks (GNN) with Gaussian Processes (GPs) to generate probabilistic forecasts.\n",
        "\n",
        "To implement this approach, you can utilize the global embeddings generated by the GNN as descriptors for the GP model. By training the GP with these descriptors and utilizing the RBF kernel, you can obtain the desired probabilistic forecasts.\n",
        "\n",
        "\n",
        "\n"
      ],
      "metadata": {
        "id": "99hKgH8fMCBr"
      },
      "id": "99hKgH8fMCBr"
    }
  ],
  "metadata": {
    "kernelspec": {
      "display_name": "Python 3 (ipykernel)",
      "language": "python",
      "name": "python3"
    },
    "language_info": {
      "codemirror_mode": {
        "name": "ipython",
        "version": 3
      },
      "file_extension": ".py",
      "mimetype": "text/x-python",
      "name": "python",
      "nbconvert_exporter": "python",
      "pygments_lexer": "ipython3",
      "version": "3.10.10"
    },
    "colab": {
      "provenance": []
    }
  },
  "nbformat": 4,
  "nbformat_minor": 5
}