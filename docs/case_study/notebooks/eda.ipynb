{
 "cells": [
  {
   "cell_type": "code",
   "execution_count": 1,
   "id": "b909f520",
   "metadata": {
    "scrolled": true
   },
   "outputs": [],
   "source": [
    "import numpy as np\n",
    "import pandas as pd\n",
    "\n",
    "import seaborn as sns\n",
    "import matplotlib.pyplot as plt\n",
    "sns.set(rc={'figure.figsize':(11.7,8.27)})\n",
    "sns.set(style=\"whitegrid\", font_scale=1.5)\n",
    "plt.rcParams['lines.markersize'] = 7\n",
    "\n",
    "from sklearn.model_selection import train_test_split\n",
    "from sklearn.ensemble import RandomForestRegressor\n",
    "from sklearn.ensemble import GradientBoostingRegressor\n",
    "from sklearn.metrics import r2_score\n",
    "\n",
    "from config import *\n",
    "from src.utils.datasets import load_task"
   ]
  },
  {
   "cell_type": "code",
   "execution_count": 2,
   "id": "f737866e",
   "metadata": {},
   "outputs": [
    {
     "name": "stdout",
     "output_type": "stream",
     "text": [
      "Masking 0 feature dims for ['morgan']\n"
     ]
    }
   ],
   "source": [
    "feature_set = [\"morgan\"]\n",
    "X, X_names, y, smis = load_task(data_dir, name, feature_set, mask_inputs=True)\n",
    "\n",
    "df = pd.DataFrame(X)\n",
    "df.columns = X_names\n",
    "df[\"anti-haze2\"] = y"
   ]
  },
  {
   "cell_type": "markdown",
   "id": "a98f78f2",
   "metadata": {},
   "source": [
    "# Distribution of outcome"
   ]
  },
  {
   "cell_type": "code",
   "execution_count": 5,
   "id": "4a8c9b84",
   "metadata": {},
   "outputs": [
    {
     "data": {
      "text/plain": [
       "<Axes: xlabel='anti-haze2', ylabel='Count'>"
      ]
     },
     "execution_count": 5,
     "metadata": {},
     "output_type": "execute_result"
    },
    {
     "data": {
      "image/png": "[encoded data removed]",
      "text/plain": [
       "<Figure size 432x288 with 1 Axes>"
      ]
     },
     "metadata": {
      "needs_background": "light"
     },
     "output_type": "display_data"
    }
   ],
   "source": [
    "sns.histplot(x=\"anti-haze2\", data=df)"
   ]
  }
 ],
 "metadata": {
  "kernelspec": {
   "display_name": "Python 3",
   "language": "python",
   "name": "python3"
  },
  "language_info": {
   "codemirror_mode": {
    "name": "ipython",
    "version": 3
   },
   "file_extension": ".py",
   "mimetype": "text/x-python",
   "name": "python",
   "nbconvert_exporter": "python",
   "pygments_lexer": "ipython3",
   "version": "3.8.16"
  }
 },
 "nbformat": 4,
 "nbformat_minor": 5
}
